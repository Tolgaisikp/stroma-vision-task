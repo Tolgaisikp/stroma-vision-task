{
 "cells": [
  {
   "attachments": {},
   "cell_type": "markdown",
   "metadata": {},
   "source": [
    "# Train and Test YOLOV8 With Custom Dataset"
   ]
  },
  {
   "attachments": {},
   "cell_type": "markdown",
   "metadata": {},
   "source": [
    "## Colab Train and Test Model\n",
    "\n",
    "If you click the image below, you can go to the colab project\n",
    "\n",
    "[![N|Colab Train Link](https://3.bp.blogspot.com/-apoBeWFycKQ/XhKB8fEprwI/AAAAAAAACM4/Sl76yzNSNYwlShIBrheDAum8L9qRtWNdgCLcBGAsYHQ/s1600/colab.png)](https://colab.research.google.com/drive/1xVMnB-3uSYEbZE7Nb0BSokJcuGGZIPMC?usp=sharing)\n",
    "\n",
    "The reason I use Colab is that it has GPU support and I can easily share the project.\n",
    "\n",
    "### Features\n",
    "\n",
    "- To run notebooks on github, you need to create a conda environment.\n",
    "- [Google Drive] link of the Yolo dataset, which is the result of the first 3 notebooks on [Github]\n",
    "- The training and testing processes are also available in [Colab] due to the GPU.\n",
    "- After train on Colab, we can find the best model via \"/content/runs/detect/train/weights/best.pt\"\n",
    "- Export documents as Markdown, HTML and PDF\n",
    "\n",
    "### Create Conda Environment\n",
    "\n",
    "```ps\n",
    "conda create --name stroma-vision python=3.10.6\n",
    "```\n",
    "\n",
    "\n",
    "```ps\n",
    "pip install -r requirements.txt\n",
    "```\n",
    "\n",
    "   [Google Drive]: <https://drive.google.com/file/d/1j8RAxBHwEI1zanmblq0RuQiFDGLHN-ig/view?usp=sharing>\n",
    "   [Github]: <https://github.com/Tolgaisikp/stroma-vision-task>\n",
    "   [Colab]: <https://colab.research.google.com/drive/1xVMnB-3uSYEbZE7Nb0BSokJcuGGZIPMC?usp=sharing>\n"
   ]
  }
 ],
 "metadata": {
  "kernelspec": {
   "display_name": "base",
   "language": "python",
   "name": "python3"
  },
  "language_info": {
   "codemirror_mode": {
    "name": "ipython",
    "version": 3
   },
   "file_extension": ".py",
   "mimetype": "text/x-python",
   "name": "python",
   "nbconvert_exporter": "python",
   "pygments_lexer": "ipython3",
   "version": "3.9.12"
  },
  "orig_nbformat": 4,
  "vscode": {
   "interpreter": {
    "hash": "31cf15fed92e62aa7d6778408617ff39bdc085f4cc3c18f2308b69b9b1d0f755"
   }
  }
 },
 "nbformat": 4,
 "nbformat_minor": 2
}
