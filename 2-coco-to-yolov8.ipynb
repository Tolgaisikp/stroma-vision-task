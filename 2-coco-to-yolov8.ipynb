{
 "cells": [
  {
   "cell_type": "code",
   "execution_count": 10,
   "metadata": {},
   "outputs": [],
   "source": [
    "import os\n",
    "import shutil\n",
    "from pylabel import importer"
   ]
  },
  {
   "cell_type": "code",
   "execution_count": 11,
   "metadata": {},
   "outputs": [],
   "source": [
    "ANN_PATHS = [\"./dataset/annotations/instances_val.json\", \"./dataset/annotations/instances_train.json\", \"./dataset/annotations/instances_test.json\"]\n",
    "IMG_PATHS = [\"./dataset/images/val\", \"./dataset/images/train\", \"./dataset/images/test\"]\n",
    "OUTPUT_PATHS = [\"./yolov8-dataset/val/labels\", \"./yolov8-dataset/train/labels\", \"./yolov8-dataset/test/labels\"]\n",
    "YAML_FILE = ['yolov8-dataset/val/dataset.yaml', 'yolov8-dataset/train/dataset.yaml', 'yolov8-dataset/test/dataset.yaml']\n",
    "\n",
    "MK_FOLDERS = [\"yolov8-dataset/test/images\", \"yolov8-dataset/test/labels\", \"yolov8-dataset/train/images\", \"yolov8-dataset/train/labels\", \"yolov8-dataset/val/images\", \"yolov8-dataset/val/labels\"]"
   ]
  },
  {
   "cell_type": "code",
   "execution_count": 12,
   "metadata": {},
   "outputs": [],
   "source": [
    "for target in MK_FOLDERS:\n",
    "    os.makedirs(target)"
   ]
  },
  {
   "cell_type": "code",
   "execution_count": 13,
   "metadata": {},
   "outputs": [],
   "source": [
    "def coco_to_yolo(annPath, imgPath, outPath, yamlFile):\n",
    "    dataset = importer.ImportCoco(path=annPath, path_to_images=imgPath)\n",
    "    dataset.export.ExportToYoloV5(output_path=outPath)\n",
    "    os.remove(yamlFile)"
   ]
  },
  {
   "cell_type": "code",
   "execution_count": 14,
   "metadata": {},
   "outputs": [],
   "source": [
    "def move_img(src_folder, dst_folder):\n",
    "    files = os.listdir(src_folder)\n",
    "\n",
    "    for file in files:\n",
    "        src_file = os.path.join(src_folder, file)\n",
    "        dst_file = os.path.join(dst_folder, file)\n",
    "        shutil.copy(src_file, dst_file)"
   ]
  },
  {
   "cell_type": "code",
   "execution_count": 15,
   "metadata": {},
   "outputs": [
    {
     "name": "stderr",
     "output_type": "stream",
     "text": [
      "Exporting files: 100%|██████████| 1800/1800 [00:03<00:00, 564.60it/s]\n",
      "Exporting files: 100%|██████████| 7200/7200 [00:18<00:00, 392.25it/s]\n",
      "Exporting files: 100%|██████████| 1800/1800 [00:02<00:00, 617.50it/s]\n"
     ]
    }
   ],
   "source": [
    "for x,y,z,t in zip(ANN_PATHS, IMG_PATHS, OUTPUT_PATHS, YAML_FILE):\n",
    "    coco_to_yolo(x,y,z,t)"
   ]
  },
  {
   "cell_type": "code",
   "execution_count": 16,
   "metadata": {},
   "outputs": [],
   "source": [
    "move_img('./dataset/images/test/', './yolov8-dataset/test/images/')\n",
    "move_img('./dataset/images/train', './yolov8-dataset/train/images')\n",
    "move_img('./dataset/images/val', './yolov8-dataset/val/images')"
   ]
  },
  {
   "cell_type": "code",
   "execution_count": null,
   "metadata": {},
   "outputs": [],
   "source": []
  }
 ],
 "metadata": {
  "kernelspec": {
   "display_name": "stroma-vision",
   "language": "python",
   "name": "python3"
  },
  "language_info": {
   "codemirror_mode": {
    "name": "ipython",
    "version": 3
   },
   "file_extension": ".py",
   "mimetype": "text/x-python",
   "name": "python",
   "nbconvert_exporter": "python",
   "pygments_lexer": "ipython3",
   "version": "3.10.6"
  },
  "orig_nbformat": 4,
  "vscode": {
   "interpreter": {
    "hash": "cd71d0d3e0cfcbbe0ad0f9c831bceeb009bddd5e91b058356d8c7a73bf4ea5ef"
   }
  }
 },
 "nbformat": 4,
 "nbformat_minor": 2
}
