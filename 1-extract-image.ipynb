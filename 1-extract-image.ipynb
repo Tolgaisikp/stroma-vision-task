{
 "cells": [
  {
   "attachments": {},
   "cell_type": "markdown",
   "metadata": {},
   "source": [
    "# 0. Import Dependencies"
   ]
  },
  {
   "cell_type": "code",
   "execution_count": 3,
   "metadata": {},
   "outputs": [],
   "source": [
    "import cv2\n",
    "import os"
   ]
  },
  {
   "attachments": {},
   "cell_type": "markdown",
   "metadata": {},
   "source": [
    "# 1. Define Params"
   ]
  },
  {
   "cell_type": "code",
   "execution_count": 16,
   "metadata": {},
   "outputs": [],
   "source": [
    "BASE_PATH = \"./challenge/images/\"\n",
    "TARGET_PATH = [\"./dataset/images\", \"./dataset/annotations\"]\n",
    "folders = [\"test\", \"train\", \"val\"]"
   ]
  },
  {
   "cell_type": "code",
   "execution_count": 17,
   "metadata": {},
   "outputs": [],
   "source": [
    "for target in TARGET_PATH:\n",
    "    os.mkdir(target)"
   ]
  },
  {
   "cell_type": "code",
   "execution_count": 20,
   "metadata": {},
   "outputs": [],
   "source": [
    "def extract_image(folder_name):\n",
    "    cap = cv2.VideoCapture(os.path.join(BASE_PATH, folder_name, folder_name+\".mp4\"))\n",
    "\n",
    "    number_of_frame = 0\n",
    "    while cap.isOpened():\n",
    "        ret, frame = cap.read()\n",
    "\n",
    "        if not ret:\n",
    "            break\n",
    "\n",
    "        img_name = str(number_of_frame).zfill(4) + \".jpg\"\n",
    "\n",
    "        cv2.imwrite(os.path.join(TARGET_PATH[0], folder_name, img_name), frame)\n",
    "        number_of_frame +=1\n",
    "\n",
    "        if cv2.waitKey(1) == ord('q'):\n",
    "            break\n",
    "\n",
    "    cap.release()\n",
    "    cv2.destroyAllWindows()"
   ]
  },
  {
   "cell_type": "code",
   "execution_count": null,
   "metadata": {},
   "outputs": [],
   "source": [
    "for folder_name in folders:\n",
    "    extract_image(folder_name)"
   ]
  },
  {
   "cell_type": "code",
   "execution_count": null,
   "metadata": {},
   "outputs": [],
   "source": []
  }
 ],
 "metadata": {
  "kernelspec": {
   "display_name": "stroma-vision",
   "language": "python",
   "name": "python3"
  },
  "language_info": {
   "codemirror_mode": {
    "name": "ipython",
    "version": 3
   },
   "file_extension": ".py",
   "mimetype": "text/x-python",
   "name": "python",
   "nbconvert_exporter": "python",
   "pygments_lexer": "ipython3",
   "version": "3.10.6"
  },
  "orig_nbformat": 4,
  "vscode": {
   "interpreter": {
    "hash": "cd71d0d3e0cfcbbe0ad0f9c831bceeb009bddd5e91b058356d8c7a73bf4ea5ef"
   }
  }
 },
 "nbformat": 4,
 "nbformat_minor": 2
}
