{
 "cells": [
  {
   "cell_type": "code",
   "execution_count": 1,
   "metadata": {},
   "outputs": [],
   "source": [
    "import os\n",
    "\n",
    "folders = ['./yolov8-dataset/test/labels', './yolov8-dataset/train/labels', './yolov8-dataset/val/labels']"
   ]
  },
  {
   "attachments": {},
   "cell_type": "markdown",
   "metadata": {},
   "source": [
    "# Delete Empty Labels"
   ]
  },
  {
   "cell_type": "code",
   "execution_count": 2,
   "metadata": {},
   "outputs": [],
   "source": [
    "for folder in folders:\n",
    "    for filename in os.listdir(folder):\n",
    "        file_path = os.path.join(folder, filename)\n",
    "        try:\n",
    "            if os.path.getsize(file_path) == 6 and file_path.endswith('.txt'):\n",
    "                os.remove(file_path)\n",
    "        except Exception as e:\n",
    "            print(e)"
   ]
  },
  {
   "attachments": {},
   "cell_type": "markdown",
   "metadata": {},
   "source": [
    "# Delete Empty Images"
   ]
  },
  {
   "cell_type": "code",
   "execution_count": 3,
   "metadata": {},
   "outputs": [],
   "source": [
    "import os\n",
    "import shutil\n",
    "\n",
    "src_folders = ['./yolov8-dataset/test/labels', './yolov8-dataset/train/labels', './yolov8-dataset/val/labels']\n",
    "dst_folder = ['./yolov8-dataset/test/images', './yolov8-dataset/train/images', './yolov8-dataset/val/images']"
   ]
  },
  {
   "cell_type": "code",
   "execution_count": 4,
   "metadata": {},
   "outputs": [],
   "source": [
    "def delete_empty_image(src, dst):\n",
    "    file_list_1 = os.listdir(src)\n",
    "    file_list_2 = os.listdir(dst)\n",
    "\n",
    "    new_list_1 = []\n",
    "    for s in file_list_1:\n",
    "        sliced_string = s[:-4]\n",
    "        new_list_1.append(sliced_string)\n",
    "\n",
    "    new_list_2 = []\n",
    "    for s in file_list_2:\n",
    "        sliced_string = s[:-4]\n",
    "        new_list_2.append(sliced_string)\n",
    "\n",
    "    result = [x for x in new_list_2 if x not in new_list_1]\n",
    "    result = [i + \".jpg\" for i in result]\n",
    "\n",
    "    for filename in result:\n",
    "        file_path = os.path.join(dst, filename)\n",
    "        try:\n",
    "            pass\n",
    "            os.remove(file_path)\n",
    "        except Exception as e:\n",
    "            print(e)"
   ]
  },
  {
   "cell_type": "code",
   "execution_count": 5,
   "metadata": {},
   "outputs": [],
   "source": [
    "for src, dst in zip(src_folders, dst_folder):\n",
    "    delete_empty_image(src, dst)"
   ]
  }
 ],
 "metadata": {
  "kernelspec": {
   "display_name": "Python 3",
   "language": "python",
   "name": "python3"
  },
  "language_info": {
   "codemirror_mode": {
    "name": "ipython",
    "version": 3
   },
   "file_extension": ".py",
   "mimetype": "text/x-python",
   "name": "python",
   "nbconvert_exporter": "python",
   "pygments_lexer": "ipython3",
   "version": "3.10.6"
  },
  "orig_nbformat": 4,
  "vscode": {
   "interpreter": {
    "hash": "e593ac106456af50ce7af38f9671c411b49d6cd90f9b885e167f0f594e09038c"
   }
  }
 },
 "nbformat": 4,
 "nbformat_minor": 2
}
